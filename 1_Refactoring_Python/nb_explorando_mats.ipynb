{
 "cells": [
  {
   "cell_type": "code",
   "execution_count": 15,
   "metadata": {},
   "outputs": [],
   "source": [
    "import numpy as np\n",
    "import seaborn as sns\n",
    "import control as cl\n",
    "import scipy as sp\n",
    "import pandas as pd"
   ]
  },
  {
   "cell_type": "markdown",
   "metadata": {},
   "source": [
    "## Explorando estrutura de 'classes'"
   ]
  },
  {
   "cell_type": "code",
   "execution_count": 16,
   "metadata": {},
   "outputs": [],
   "source": [
    "# carregar o arquivo classes.mat\n",
    "data1 = sp.io.loadmat('classes.mat')"
   ]
  },
  {
   "cell_type": "code",
   "execution_count": 17,
   "metadata": {},
   "outputs": [
    {
     "data": {
      "text/plain": [
       "[('classes', (1000, 2561), 'double')]"
      ]
     },
     "execution_count": 17,
     "metadata": {},
     "output_type": "execute_result"
    }
   ],
   "source": [
    "sp.io.whosmat('mat_classes.mat')"
   ]
  },
  {
   "cell_type": "code",
   "execution_count": 27,
   "metadata": {},
   "outputs": [
    {
     "name": "stdout",
     "output_type": "stream",
     "text": [
      "(1000, 2561)\n",
      "-0.0488281249677312\n",
      "l\n"
     ]
    }
   ],
   "source": [
    "\n",
    "# carrega o arquivo .mat\n",
    "mat_data1 = sp.io.loadmat('mat_classes.mat')\n",
    "\n",
    "# extrai a matriz \"classes\" do dicionário mat_data\n",
    "classes = mat_data1['classes']\n",
    "\n",
    "# imprime o número de linhas e colunas da matriz\n",
    "print(classes.shape)\n",
    "\n",
    "# imprime o primeiro elemento da matriz\n",
    "print(classes[0,0])\n",
    "\n",
    "# imprime o nome da primeira coluna da matriz (se houver)\n",
    "print(classes.dtype.name[1])"
   ]
  },
  {
   "attachments": {},
   "cell_type": "markdown",
   "metadata": {},
   "source": [
    "> ou seja, é a definição de uma espécie de tabela 1000 linhas x 2561 colunas. Infelizmente não há informações mais detalhadas, as colunas não tem informação."
   ]
  },
  {
   "cell_type": "code",
   "execution_count": 28,
   "metadata": {},
   "outputs": [
    {
     "name": "stdout",
     "output_type": "stream",
     "text": [
      "         0         1         2         3         4         5         6     \\\n",
      "0   -0.048828  0.216675  0.234985  0.390625  0.003052 -0.265503 -0.143433   \n",
      "1   -0.137329  0.036621  0.231934  0.466919  0.161743 -0.112915 -0.277710   \n",
      "2    0.146484  0.030518 -0.103760  0.119019 -0.250244 -0.201416 -0.170898   \n",
      "3   -0.094604 -0.048828 -0.085449 -0.192261 -0.094604 -0.067139 -0.045776   \n",
      "4    0.265503  0.399780  0.073242  0.299072 -0.198364 -0.119019 -0.064087   \n",
      "..        ...       ...       ...       ...       ...       ...       ...   \n",
      "995 -0.054932  0.027466  0.097656  0.186157  0.204468  0.170898  0.033569   \n",
      "996 -0.180054 -0.265503 -0.219727 -0.079346  0.143433  0.280762  0.262451   \n",
      "997  0.372314  0.149536 -0.149536 -0.418091 -0.469971 -0.308228 -0.061035   \n",
      "998 -0.088501 -0.115967 -0.180054 -0.122070  0.012207  0.207520  0.390625   \n",
      "999 -0.039673  0.009155  0.024414  0.073242  0.067139  0.164795  0.357056   \n",
      "\n",
      "         7         8         9     ...      2551      2552      2553  \\\n",
      "0   -0.094604  0.094604  0.015259  ...  0.320435  0.030518 -0.006104   \n",
      "1   -0.494385 -0.112915  0.177002  ...  0.109863  0.009155 -0.161743   \n",
      "2    0.018311  0.115967  0.219727  ... -0.097656 -0.033569  0.024414   \n",
      "3    0.006104 -0.048828 -0.158691  ...  0.146484  0.244141  0.289917   \n",
      "4    0.421143  0.064087  0.195312  ... -0.146484 -0.183105 -0.512695   \n",
      "..        ...       ...       ...  ...       ...       ...       ...   \n",
      "995 -0.064087 -0.103760 -0.119019  ... -0.418091 -0.411987 -0.329590   \n",
      "996  0.149536 -0.073242 -0.238037  ... -0.292969 -0.332642 -0.357056   \n",
      "997  0.219727  0.262451  0.155640  ... -0.131226 -0.033569  0.027466   \n",
      "998  0.466919  0.393677  0.256348  ... -0.079346 -0.067139  0.036621   \n",
      "999  0.454712  0.369263  0.094604  ...  0.003052 -0.033569 -0.061035   \n",
      "\n",
      "         2554      2555      2556      2557      2558      2559  2560  \n",
      "0    0.057983  0.018311 -0.231934 -0.341797 -0.363159 -0.271606   0.0  \n",
      "1   -0.259399 -0.152588 -0.094604  0.009155  0.006104  0.152588   0.0  \n",
      "2    0.152588  0.280762  0.152588  0.033569 -0.039673  0.146484   0.0  \n",
      "3    0.152588 -0.070190 -0.186157 -0.158691 -0.067139  0.579834   0.0  \n",
      "4   -0.158691 -0.119019 -0.088501 -0.955200  0.155640  0.213623   0.0  \n",
      "..        ...       ...       ...       ...       ...       ...   ...  \n",
      "995 -0.122070  0.152588  0.357056  0.384521  0.241089  0.006104   9.0  \n",
      "996 -0.320435 -0.228882 -0.070190  0.152588  0.323486  0.402832   9.0  \n",
      "997  0.057983  0.006104 -0.067139 -0.112915 -0.100708 -0.082397   9.0  \n",
      "998 -0.045776 -0.103760 -0.125122 -0.112915 -0.128174 -0.091553   9.0  \n",
      "999 -0.134277 -0.207520 -0.210571 -0.085449  0.097656  0.234985   9.0  \n",
      "\n",
      "[1000 rows x 2561 columns]\n"
     ]
    }
   ],
   "source": [
    "# extrair a variável 'classes' do dicionário data\n",
    "classes = data1['classes']\n",
    "\n",
    "# criar um dataframe pandas com a matriz numpy 'classes'\n",
    "df = pd.DataFrame(classes)\n",
    "\n",
    "# imprimir o dataframe\n",
    "print(df)"
   ]
  },
  {
   "attachments": {},
   "cell_type": "markdown",
   "metadata": {},
   "source": [
    "## Explorando estrutura de 'vibrations'"
   ]
  },
  {
   "cell_type": "code",
   "execution_count": 32,
   "metadata": {},
   "outputs": [],
   "source": [
    "# carregar o arquivo classes.mat\n",
    "data2 = sp.io.loadmat('mat_vibration.mat')"
   ]
  },
  {
   "cell_type": "code",
   "execution_count": 34,
   "metadata": {},
   "outputs": [
    {
     "name": "stdout",
     "output_type": "stream",
     "text": [
      "(1000, 2561)\n",
      "-0.0488281249677312\n",
      "l\n"
     ]
    }
   ],
   "source": [
    "# carrega o arquivo .mat\n",
    "mat_data2 = sp.io.loadmat('mat_vibration.mat')\n",
    "\n",
    "# extrai a matriz \"classes\" do dicionário mat_data\n",
    "mat_vibration = mat_data2['A']\n",
    "\n",
    "# imprime o número de linhas e colunas da matriz\n",
    "print(classes.shape)\n",
    "\n",
    "# imprime o primeiro elemento da matriz\n",
    "print(classes[0,0])\n",
    "\n",
    "# imprime o nome da primeira coluna da matriz (se houver)\n",
    "print(classes.dtype.name[1])"
   ]
  },
  {
   "cell_type": "code",
   "execution_count": 30,
   "metadata": {},
   "outputs": [
    {
     "data": {
      "text/plain": [
       "[('A', (3, 3), 'double'),\n",
       " ('B', (2, 3), 'double'),\n",
       " ('C', (5, 3), 'double'),\n",
       " ('D', (3, 2), 'double'),\n",
       " ('E', (3, 5), 'double'),\n",
       " ('N15_M07_F10_K001_1', (1, 1), 'struct'),\n",
       " ('N15_M07_F10_KA04_1', (1, 1), 'struct'),\n",
       " ('N15_M07_F10_KA15_1', (1, 1), 'struct'),\n",
       " ('N15_M07_F10_KB23_1', (1, 1), 'struct'),\n",
       " ('N15_M07_F10_KB27_1', (1, 1), 'struct'),\n",
       " ('N15_M07_F10_KI04_1', (1, 1), 'struct'),\n",
       " ('ans', (1, 1), 'struct'),\n",
       " ('class01', (100, 2561), 'double'),\n",
       " ('class02', (100, 2561), 'double'),\n",
       " ('class03', (100, 2561), 'double'),\n",
       " ('class04', (100, 2561), 'double'),\n",
       " ('class05', (100, 2561), 'double'),\n",
       " ('class06', (100, 2561), 'double'),\n",
       " ('class1', (100, 2560), 'double'),\n",
       " ('class2', (100, 2560), 'double'),\n",
       " ('class3', (100, 2560), 'double'),\n",
       " ('class4', (100, 2560), 'double'),\n",
       " ('class5', (100, 2560), 'double'),\n",
       " ('class6', (100, 2560), 'double'),\n",
       " ('mat_vibration', (600, 2561), 'double'),\n",
       " ('matrix', (100, 2560), 'double'),\n",
       " ('n_var', (1, 1), 'double'),\n",
       " ('phase_current_1_K001_1', (1, 256001), 'double'),\n",
       " ('phase_current_1_KA04_1', (1, 256004), 'double'),\n",
       " ('phase_current_1_KA15_1', (1, 256000), 'double'),\n",
       " ('phase_current_1_KB23_1', (1, 256001), 'double'),\n",
       " ('phase_current_1_KB27_1', (1, 256001), 'double'),\n",
       " ('phase_current_2_K001_1', (1, 256001), 'double'),\n",
       " ('phase_current_2_KA04_1', (1, 256004), 'double'),\n",
       " ('phase_current_2_KA15_1', (1, 256000), 'double'),\n",
       " ('phase_current_2_KB23_1', (1, 256001), 'double'),\n",
       " ('phase_current_2_KB27_1', (1, 256001), 'double'),\n",
       " ('signal', (1, 256001), 'double'),\n",
       " ('tempo_K001_1', (1, 256001), 'double'),\n",
       " ('tempo_KA04_1', (1, 256004), 'double'),\n",
       " ('tempo_KA15_1', (1, 256000), 'double'),\n",
       " ('tempo_KB23_1', (1, 256001), 'double'),\n",
       " ('tempo_KB27_1', (1, 256001), 'double'),\n",
       " ('vet', (100, 1), 'double'),\n",
       " ('vibration_1_K001_1', (1, 256001), 'double'),\n",
       " ('vibration_1_KA04_1', (1, 256004), 'double'),\n",
       " ('vibration_1_KA15_1', (1, 256000), 'double'),\n",
       " ('vibration_1_KB23_1', (1, 256001), 'double'),\n",
       " ('vibration_1_KB27_1', (1, 256001), 'double'),\n",
       " ('vibration_1_KI04_1', (1, 256001), 'double')]"
      ]
     },
     "execution_count": 30,
     "metadata": {},
     "output_type": "execute_result"
    }
   ],
   "source": [
    "sp.io.whosmat('mat_vibration.mat')"
   ]
  },
  {
   "cell_type": "code",
   "execution_count": 13,
   "metadata": {},
   "outputs": [
    {
     "name": "stdout",
     "output_type": "stream",
     "text": [
      "(1000, 2561)\n"
     ]
    }
   ],
   "source": [
    "# imprimir as dimensões da matriz 'classes'\n",
    "print(classes.shape)"
   ]
  },
  {
   "cell_type": "code",
   "execution_count": 12,
   "metadata": {},
   "outputs": [
    {
     "name": "stdout",
     "output_type": "stream",
     "text": [
      "         0         1         2         3         4         5         6     \\\n",
      "0   -0.048828  0.216675  0.234985  0.390625  0.003052 -0.265503 -0.143433   \n",
      "1   -0.137329  0.036621  0.231934  0.466919  0.161743 -0.112915 -0.277710   \n",
      "2    0.146484  0.030518 -0.103760  0.119019 -0.250244 -0.201416 -0.170898   \n",
      "3   -0.094604 -0.048828 -0.085449 -0.192261 -0.094604 -0.067139 -0.045776   \n",
      "4    0.265503  0.399780  0.073242  0.299072 -0.198364 -0.119019 -0.064087   \n",
      "..        ...       ...       ...       ...       ...       ...       ...   \n",
      "995 -0.054932  0.027466  0.097656  0.186157  0.204468  0.170898  0.033569   \n",
      "996 -0.180054 -0.265503 -0.219727 -0.079346  0.143433  0.280762  0.262451   \n",
      "997  0.372314  0.149536 -0.149536 -0.418091 -0.469971 -0.308228 -0.061035   \n",
      "998 -0.088501 -0.115967 -0.180054 -0.122070  0.012207  0.207520  0.390625   \n",
      "999 -0.039673  0.009155  0.024414  0.073242  0.067139  0.164795  0.357056   \n",
      "\n",
      "         7         8         9     ...      2551      2552      2553  \\\n",
      "0   -0.094604  0.094604  0.015259  ...  0.320435  0.030518 -0.006104   \n",
      "1   -0.494385 -0.112915  0.177002  ...  0.109863  0.009155 -0.161743   \n",
      "2    0.018311  0.115967  0.219727  ... -0.097656 -0.033569  0.024414   \n",
      "3    0.006104 -0.048828 -0.158691  ...  0.146484  0.244141  0.289917   \n",
      "4    0.421143  0.064087  0.195312  ... -0.146484 -0.183105 -0.512695   \n",
      "..        ...       ...       ...  ...       ...       ...       ...   \n",
      "995 -0.064087 -0.103760 -0.119019  ... -0.418091 -0.411987 -0.329590   \n",
      "996  0.149536 -0.073242 -0.238037  ... -0.292969 -0.332642 -0.357056   \n",
      "997  0.219727  0.262451  0.155640  ... -0.131226 -0.033569  0.027466   \n",
      "998  0.466919  0.393677  0.256348  ... -0.079346 -0.067139  0.036621   \n",
      "999  0.454712  0.369263  0.094604  ...  0.003052 -0.033569 -0.061035   \n",
      "\n",
      "         2554      2555      2556      2557      2558      2559  2560  \n",
      "0    0.057983  0.018311 -0.231934 -0.341797 -0.363159 -0.271606   0.0  \n",
      "1   -0.259399 -0.152588 -0.094604  0.009155  0.006104  0.152588   0.0  \n",
      "2    0.152588  0.280762  0.152588  0.033569 -0.039673  0.146484   0.0  \n",
      "3    0.152588 -0.070190 -0.186157 -0.158691 -0.067139  0.579834   0.0  \n",
      "4   -0.158691 -0.119019 -0.088501 -0.955200  0.155640  0.213623   0.0  \n",
      "..        ...       ...       ...       ...       ...       ...   ...  \n",
      "995 -0.122070  0.152588  0.357056  0.384521  0.241089  0.006104   9.0  \n",
      "996 -0.320435 -0.228882 -0.070190  0.152588  0.323486  0.402832   9.0  \n",
      "997  0.057983  0.006104 -0.067139 -0.112915 -0.100708 -0.082397   9.0  \n",
      "998 -0.045776 -0.103760 -0.125122 -0.112915 -0.128174 -0.091553   9.0  \n",
      "999 -0.134277 -0.207520 -0.210571 -0.085449  0.097656  0.234985   9.0  \n",
      "\n",
      "[1000 rows x 2561 columns]\n"
     ]
    }
   ],
   "source": [
    "# extrair a variável 'classes' do dicionário data\n",
    "mat_vibrations = data2['classes']\n",
    "\n",
    "# criar um dataframe pandas com a matriz numpy 'classes'\n",
    "df = pd.DataFrame(classes)\n",
    "\n",
    "# imprimir o dataframe\n",
    "print(df)"
   ]
  }
 ],
 "metadata": {
  "kernelspec": {
   "display_name": "Python 3",
   "language": "python",
   "name": "python3"
  },
  "language_info": {
   "codemirror_mode": {
    "name": "ipython",
    "version": 3
   },
   "file_extension": ".py",
   "mimetype": "text/x-python",
   "name": "python",
   "nbconvert_exporter": "python",
   "pygments_lexer": "ipython3",
   "version": "3.10.7"
  },
  "orig_nbformat": 4
 },
 "nbformat": 4,
 "nbformat_minor": 2
}
