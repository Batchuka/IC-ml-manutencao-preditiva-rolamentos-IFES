{
 "cells": [
  {
   "attachments": {},
   "cell_type": "markdown",
   "metadata": {},
   "source": [
    "# O conjunto de dados"
   ]
  },
  {
   "attachments": {},
   "cell_type": "markdown",
   "metadata": {},
   "source": [
    "Nós temos um conjunto de dados que estão contidos nos arquivos 'mat_classes.mat' e 'mat_vibration.mat'. Para que possamos explorar seu conteúdo, é preciso fazer a leitura da extensão .mat."
   ]
  },
  {
   "cell_type": "code",
   "execution_count": 6,
   "metadata": {},
   "outputs": [
    {
     "name": "stdout",
     "output_type": "stream",
     "text": [
      "       0         1         2         3         4         5         6     \\\n",
      "0 -0.048828  0.216675  0.234985  0.390625  0.003052 -0.265503 -0.143433   \n",
      "1 -0.137329  0.036621  0.231934  0.466919  0.161743 -0.112915 -0.277710   \n",
      "2  0.146484  0.030518 -0.103760  0.119019 -0.250244 -0.201416 -0.170898   \n",
      "3 -0.094604 -0.048828 -0.085449 -0.192261 -0.094604 -0.067139 -0.045776   \n",
      "4  0.265503  0.399780  0.073242  0.299072 -0.198364 -0.119019 -0.064087   \n",
      "\n",
      "       7         8         9     ...      2551      2552      2553      2554  \\\n",
      "0 -0.094604  0.094604  0.015259  ...  0.320435  0.030518 -0.006104  0.057983   \n",
      "1 -0.494385 -0.112915  0.177002  ...  0.109863  0.009155 -0.161743 -0.259399   \n",
      "2  0.018311  0.115967  0.219727  ... -0.097656 -0.033569  0.024414  0.152588   \n",
      "3  0.006104 -0.048828 -0.158691  ...  0.146484  0.244141  0.289917  0.152588   \n",
      "4  0.421143  0.064087  0.195312  ... -0.146484 -0.183105 -0.512695 -0.158691   \n",
      "\n",
      "       2555      2556      2557      2558      2559  2560  \n",
      "0  0.018311 -0.231934 -0.341797 -0.363159 -0.271606   0.0  \n",
      "1 -0.152588 -0.094604  0.009155  0.006104  0.152588   0.0  \n",
      "2  0.280762  0.152588  0.033569 -0.039673  0.146484   0.0  \n",
      "3 -0.070190 -0.186157 -0.158691 -0.067139  0.579834   0.0  \n",
      "4 -0.119019 -0.088501 -0.955200  0.155640  0.213623   0.0  \n",
      "\n",
      "[5 rows x 2561 columns]\n"
     ]
    }
   ],
   "source": [
    "import scipy.io as sio\n",
    "import pandas as pd\n",
    "\n",
    "# Carrega o arquivo .mat\n",
    "mat_classes_contents = sio.loadmat('mat_classes.mat')\n",
    "\n",
    "# Converte o dicionário em DataFrame\n",
    "df = pd.DataFrame(mat_classes_contents['classes'])\n",
    "\n",
    "# Visualiza o DataFrame\n",
    "print(df.head())"
   ]
  },
  {
   "cell_type": "code",
   "execution_count": 8,
   "metadata": {},
   "outputs": [
    {
     "name": "stdout",
     "output_type": "stream",
     "text": [
      "       0         1         2         3         4         5         6     \\\n",
      "0 -0.048828  0.216675  0.234985  0.390625  0.003052 -0.265503 -0.143433   \n",
      "1 -0.137329  0.036621  0.231934  0.466919  0.161743 -0.112915 -0.277710   \n",
      "2  0.146484  0.030518 -0.103760  0.119019 -0.250244 -0.201416 -0.170898   \n",
      "3 -0.094604 -0.048828 -0.085449 -0.192261 -0.094604 -0.067139 -0.045776   \n",
      "4  0.265503  0.399780  0.073242  0.299072 -0.198364 -0.119019 -0.064087   \n",
      "\n",
      "       7         8         9     ...      2551      2552      2553      2554  \\\n",
      "0 -0.094604  0.094604  0.015259  ...  0.320435  0.030518 -0.006104  0.057983   \n",
      "1 -0.494385 -0.112915  0.177002  ...  0.109863  0.009155 -0.161743 -0.259399   \n",
      "2  0.018311  0.115967  0.219727  ... -0.097656 -0.033569  0.024414  0.152588   \n",
      "3  0.006104 -0.048828 -0.158691  ...  0.146484  0.244141  0.289917  0.152588   \n",
      "4  0.421143  0.064087  0.195312  ... -0.146484 -0.183105 -0.512695 -0.158691   \n",
      "\n",
      "       2555      2556      2557      2558      2559  2560  \n",
      "0  0.018311 -0.231934 -0.341797 -0.363159 -0.271606   0.0  \n",
      "1 -0.152588 -0.094604  0.009155  0.006104  0.152588   0.0  \n",
      "2  0.280762  0.152588  0.033569 -0.039673  0.146484   0.0  \n",
      "3 -0.070190 -0.186157 -0.158691 -0.067139  0.579834   0.0  \n",
      "4 -0.119019 -0.088501 -0.955200  0.155640  0.213623   0.0  \n",
      "\n",
      "[5 rows x 2561 columns]\n"
     ]
    }
   ],
   "source": [
    "import scipy.io as sio\n",
    "import pandas as pd\n",
    "\n",
    "# Carrega o arquivo .mat\n",
    "mat_vibration_contents = sio.loadmat('mat_classes.mat')\n",
    "\n",
    "# Converte o dicionário em DataFrame\n",
    "df = pd.DataFrame(mat_vibration_contents['classes'])\n",
    "\n",
    "# Visualiza o DataFrame\n",
    "print(df.head())"
   ]
  },
  {
   "attachments": {},
   "cell_type": "markdown",
   "metadata": {},
   "source": [
    "# Modelo de classificação baseado em k-NN"
   ]
  },
  {
   "cell_type": "code",
   "execution_count": 18,
   "metadata": {},
   "outputs": [],
   "source": [
    "# Decompõe os sinais com os filtros wavelet nos níveis de decomposição especificados.\n",
    "\n",
    "import numpy as np\n",
    "import scipy.io as sio\n",
    "import pandas as pd\n",
    "from sklearn.model_selection import StratifiedShuffleSplit\n",
    "\n",
    "\n",
    "# MODULO 01: CARREGA DADOS\n",
    "mat_vibration = sio.loadmat('mat_vibration.mat')\n",
    "\n",
    "variaveis = mat_vibration['mat_vibration'][:, :2560]\n",
    "\n",
    "y = mat_vibration['mat_vibration'][:, 2560]\n",
    "\n",
    "numSamp, numVar = variaveis.shape\n",
    "\n",
    "wavelet = 'NOT'\n",
    "\n",
    "if wavelet == 'NOT':\n",
    "\n",
    "    # Particiona conjunto original em Treino e Teste - 70/30\n",
    "    cv = StratifiedShuffleSplit(n_splits=1, test_size=0.3, random_state=42)\n",
    "    train_index, test_index = next(cv.split(variaveis, y))\n",
    "\n",
    "    # Dados de Treino\n",
    "    Xtrain = variaveis[train_index, :]\n",
    "    ytrain = y[train_index]\n",
    "\n",
    "    # Dados de Teste\n",
    "    Xtest  = variaveis[test_index, :]\n",
    "    ytest  = y[test_index]\n",
    "\n",
    "\n",
    "\n",
    "# # Decomposiçao da matriz de descritores com a wavelet escolhida e no nível de decomposição definido.\n",
    "# import pywt\n",
    "\n",
    "\n",
    "# wavelet = 'sym'\n",
    "# nivelmax = pywt.wavelist(wavelet)[6]\n",
    "# nivel = 3\n",
    "\n",
    "# if nivel <= nivelmax:\n",
    "\n",
    "#     for i in range(numSamp):\n",
    "#         coeffs = pywt.wavedec(variaveis[i,:], wavelet, level=nivel)\n",
    "#         nCoef = sum([len(c) for c in coeffs])\n",
    "#         matCoef[i, :nCoef] = np.concatenate(coeffs) \n",
    "\n"
   ]
  }
 ],
 "metadata": {
  "kernelspec": {
   "display_name": "Python 3",
   "language": "python",
   "name": "python3"
  },
  "language_info": {
   "codemirror_mode": {
    "name": "ipython",
    "version": 3
   },
   "file_extension": ".py",
   "mimetype": "text/x-python",
   "name": "python",
   "nbconvert_exporter": "python",
   "pygments_lexer": "ipython3",
   "version": "3.10.7"
  },
  "orig_nbformat": 4
 },
 "nbformat": 4,
 "nbformat_minor": 2
}
