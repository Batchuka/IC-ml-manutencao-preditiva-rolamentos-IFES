{
 "cells": [
  {
   "attachments": {},
   "cell_type": "markdown",
   "metadata": {},
   "source": [
    "# Modelo de classificação baseado em k-NN"
   ]
  },
  {
   "cell_type": "code",
   "execution_count": 18,
   "metadata": {},
   "outputs": [],
   "source": [
    "# MODULO 01: CARREGA DADOS\n",
    "mat_vibration = sio.loadmat('mat_vibration.mat')\n",
    "\n",
    "variaveis = mat_vibration['mat_vibration'][:, :2560]\n",
    "\n",
    "y = mat_vibration['mat_vibration'][:, 2560]\n",
    "\n",
    "numSamp, numVar = variaveis.shape\n",
    "\n",
    "wavelet = 'NOT'\n",
    "\n",
    "if wavelet == 'NOT':\n",
    "\n",
    "    # Particiona conjunto original em Treino e Teste - 70/30\n",
    "    cv = StratifiedShuffleSplit(n_splits=1, test_size=0.3, random_state=42)\n",
    "    train_index, test_index = next(cv.split(variaveis, y))\n",
    "\n",
    "    # Dados de Treino\n",
    "    Xtrain = variaveis[train_index, :]\n",
    "    ytrain = y[train_index]\n",
    "\n",
    "    # Dados de Teste\n",
    "    Xtest  = variaveis[test_index, :]\n",
    "    ytest  = y[test_index]\n",
    "\n",
    "\n",
    "\n",
    "\n",
    "\n",
    "# # Decomposiçao da matriz de descritores com a wavelet escolhida e no nível de decomposição definido.\n",
    "# import pywt\n",
    "\n",
    "\n",
    "# wavelet = 'sym'\n",
    "# nivelmax = pywt.wavelist(wavelet)[6]\n",
    "# nivel = 3\n",
    "\n",
    "# if nivel <= nivelmax:\n",
    "\n",
    "#     for i in range(numSamp):\n",
    "#         coeffs = pywt.wavedec(variaveis[i,:], wavelet, level=nivel)\n",
    "#         nCoef = sum([len(c) for c in coeffs])\n",
    "#         matCoef[i, :nCoef] = np.concatenate(coeffs) \n",
    "\n"
   ]
  },
  {
   "cell_type": "markdown",
   "metadata": {},
   "source": [
    "# Imports"
   ]
  },
  {
   "cell_type": "code",
   "execution_count": 2,
   "metadata": {},
   "outputs": [],
   "source": [
    "import numpy as np\n",
    "import scipy.io as sio\n",
    "import pandas as pd\n",
    "from sklearn.model_selection import StratifiedShuffleSplit"
   ]
  }
 ],
 "metadata": {
  "kernelspec": {
   "display_name": "Python 3",
   "language": "python",
   "name": "python3"
  },
  "language_info": {
   "codemirror_mode": {
    "name": "ipython",
    "version": 3
   },
   "file_extension": ".py",
   "mimetype": "text/x-python",
   "name": "python",
   "nbconvert_exporter": "python",
   "pygments_lexer": "ipython3",
   "version": "3.10.7"
  },
  "orig_nbformat": 4
 },
 "nbformat": 4,
 "nbformat_minor": 2
}
