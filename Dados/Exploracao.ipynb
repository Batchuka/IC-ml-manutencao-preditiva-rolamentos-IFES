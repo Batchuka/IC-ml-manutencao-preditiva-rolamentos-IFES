{
 "cells": [
  {
   "cell_type": "markdown",
   "metadata": {},
   "source": [
    "# O conjunto de dados"
   ]
  },
  {
   "cell_type": "markdown",
   "metadata": {},
   "source": [
    "Nós temos um conjunto de dados que estão contidos nos arquivos 'mat_classes.mat' e 'mat_vibration.mat'. Para que possamos explorar seu conteúdo, é preciso fazer a leitura da extensão .mat."
   ]
  },
  {
   "cell_type": "code",
   "execution_count": null,
   "metadata": {},
   "outputs": [],
   "source": [
    "# Carrega o arquivo .mat\n",
    "mat_classes_contents = sio.loadmat('mat_classes.mat')\n",
    "\n",
    "# Converte o dicionário em DataFrame\n",
    "df = pd.DataFrame(mat_classes_contents['classes'])\n",
    "\n",
    "# Visualiza o DataFrame\n",
    "print(df.head())"
   ]
  },
  {
   "cell_type": "code",
   "execution_count": null,
   "metadata": {},
   "outputs": [],
   "source": [
    "# Carrega o arquivo .mat\n",
    "mat_vibration_contents = sio.loadmat('mat_classes.mat')\n",
    "\n",
    "# Converte o dicionário em DataFrame\n",
    "df = pd.DataFrame(mat_vibration_contents['classes'])\n",
    "\n",
    "# Visualiza o DataFrame\n",
    "print(df.head())"
   ]
  },
  {
   "cell_type": "markdown",
   "metadata": {},
   "source": [
    "# Imports"
   ]
  },
  {
   "cell_type": "code",
   "execution_count": null,
   "metadata": {},
   "outputs": [],
   "source": [
    "import scipy.io as sio\n",
    "import pandas as pd"
   ]
  }
 ],
 "metadata": {
  "language_info": {
   "name": "python"
  },
  "orig_nbformat": 4
 },
 "nbformat": 4,
 "nbformat_minor": 2
}
